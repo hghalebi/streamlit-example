{
  "nbformat": 4,
  "nbformat_minor": 0,
  "metadata": {
    "colab": {
      "name": "zendesk.ipynb",
      "provenance": [],
      "authorship_tag": "ABX9TyPD+io/HX16aQIcyeW7r358",
      "include_colab_link": true
    },
    "kernelspec": {
      "name": "python3",
      "display_name": "Python 3"
    },
    "language_info": {
      "name": "python"
    }
  },
  "cells": [
    {
      "cell_type": "markdown",
      "metadata": {
        "id": "view-in-github",
        "colab_type": "text"
      },
      "source": [
        "<a href=\"https://colab.research.google.com/github/hghalebi/streamlit-example/blob/master/zendesk.ipynb\" target=\"_parent\"><img src=\"https://colab.research.google.com/assets/colab-badge.svg\" alt=\"Open In Colab\"/></a>"
      ]
    },
    {
      "cell_type": "code",
      "metadata": {
        "colab": {
          "base_uri": "https://localhost:8080/"
        },
        "id": "7oAfVmeI7Fje",
        "outputId": "30e6df74-beaf-4601-a48a-64b0716c0688"
      },
      "source": [
        "!pip install zenpy"
      ],
      "execution_count": null,
      "outputs": [
        {
          "output_type": "stream",
          "text": [
            "Collecting zenpy\n",
            "\u001b[?25l  Downloading https://files.pythonhosted.org/packages/f1/c3/aba4cd422e7414b2c0094f6f26eaa57050d4b8c41dbd9825013a025a3b48/zenpy-2.0.24.tar.gz (70kB)\n",
            "\r\u001b[K     |████▋                           | 10kB 15.4MB/s eta 0:00:01\r\u001b[K     |█████████▎                      | 20kB 9.6MB/s eta 0:00:01\r\u001b[K     |██████████████                  | 30kB 5.7MB/s eta 0:00:01\r\u001b[K     |██████████████████▌             | 40kB 5.4MB/s eta 0:00:01\r\u001b[K     |███████████████████████▏        | 51kB 2.9MB/s eta 0:00:01\r\u001b[K     |███████████████████████████▉    | 61kB 3.2MB/s eta 0:00:01\r\u001b[K     |████████████████████████████████| 71kB 2.5MB/s \n",
            "\u001b[?25hRequirement already satisfied: requests>=2.14.2 in /usr/local/lib/python3.7/dist-packages (from zenpy) (2.23.0)\n",
            "Requirement already satisfied: python-dateutil>=2.7.5 in /usr/local/lib/python3.7/dist-packages (from zenpy) (2.8.1)\n",
            "Requirement already satisfied: cachetools>=3.1.0 in /usr/local/lib/python3.7/dist-packages (from zenpy) (4.2.2)\n",
            "Requirement already satisfied: pytz>=2018.9 in /usr/local/lib/python3.7/dist-packages (from zenpy) (2018.9)\n",
            "Requirement already satisfied: six>=1.14.0 in /usr/local/lib/python3.7/dist-packages (from zenpy) (1.15.0)\n",
            "Requirement already satisfied: urllib3!=1.25.0,!=1.25.1,<1.26,>=1.21.1 in /usr/local/lib/python3.7/dist-packages (from requests>=2.14.2->zenpy) (1.24.3)\n",
            "Requirement already satisfied: chardet<4,>=3.0.2 in /usr/local/lib/python3.7/dist-packages (from requests>=2.14.2->zenpy) (3.0.4)\n",
            "Requirement already satisfied: idna<3,>=2.5 in /usr/local/lib/python3.7/dist-packages (from requests>=2.14.2->zenpy) (2.10)\n",
            "Requirement already satisfied: certifi>=2017.4.17 in /usr/local/lib/python3.7/dist-packages (from requests>=2.14.2->zenpy) (2020.12.5)\n",
            "Building wheels for collected packages: zenpy\n",
            "  Building wheel for zenpy (setup.py) ... \u001b[?25l\u001b[?25hdone\n",
            "  Created wheel for zenpy: filename=zenpy-2.0.24-cp37-none-any.whl size=76091 sha256=244416e9042b807e0a7b4a240a978b8a7216be828dc4878e01b3448e6c0afd1b\n",
            "  Stored in directory: /root/.cache/pip/wheels/40/be/14/f3a28b627d091d707ce42e28e4a323955871fa13fc6892abde\n",
            "Successfully built zenpy\n",
            "Installing collected packages: zenpy\n",
            "Successfully installed zenpy-2.0.24\n"
          ],
          "name": "stdout"
        }
      ]
    },
    {
      "cell_type": "code",
      "metadata": {
        "id": "ZaFfH_LC7fJ_"
      },
      "source": [
        "creds = {\n",
        "    'email' : 'hg@ainov.io',\n",
        "    'token' : 'sW16krZSkVkJLIN5jQvPkTkU7xpkkefhZKJGA0vw',\n",
        "    'subdomain': 'remotionhelp'\n",
        "}\n",
        "\n",
        "\n"
      ],
      "execution_count": null,
      "outputs": []
    },
    {
      "cell_type": "code",
      "metadata": {
        "id": "9kJDtE867U4E"
      },
      "source": [
        "from zenpy import Zenpy\n",
        "# Create a Zenpy instance\n",
        "zenpy_client = Zenpy(**creds)\n",
        "\n",
        "# Create a new ticket\n",
        "zenpy_client.tickets.create(Ticket(subject=\"Important\", description=\"Thing\"))\n",
        "\n"
      ],
      "execution_count": null,
      "outputs": []
    },
    {
      "cell_type": "code",
      "metadata": {
        "colab": {
          "base_uri": "https://localhost:8080/"
        },
        "id": "Z7Lg-oad86vF",
        "outputId": "41660f23-ec53-4d77-d1cb-a849871fcf08"
      },
      "source": [
        "from zenpy.lib.api_objects import Ticket, User\n",
        "\n",
        "zenpy_client.tickets.create(\n",
        "    Ticket(description='I am testing zendek API for python client',\n",
        "           requester=User(name='Hamze Ghalebi', email='ghalebi@gmail.com'))\n",
        ")\n"
      ],
      "execution_count": null,
      "outputs": [
        {
          "output_type": "execute_result",
          "data": {
            "text/plain": [
              "TicketAudit()"
            ]
          },
          "metadata": {
            "tags": []
          },
          "execution_count": 8
        }
      ]
    }
  ]
}